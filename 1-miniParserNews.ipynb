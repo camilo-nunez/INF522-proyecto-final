{
 "cells": [
  {
   "cell_type": "code",
   "execution_count": 3,
   "id": "bae43bc0-5223-4986-81ce-94a8905cc8ca",
   "metadata": {},
   "outputs": [],
   "source": [
    "import json\n",
    "import pandas as pd\n",
    "import numpy as np\n",
    "import datetime \n",
    "from bs4 import BeautifulSoup\n",
    "\n",
    "#pd.set_option(\"display.max_rows\", None)"
   ]
  },
  {
   "cell_type": "code",
   "execution_count": 4,
   "id": "d9b76f12-dd87-4a93-b5ea-7c621d2217a4",
   "metadata": {},
   "outputs": [],
   "source": [
    "def niceText(html):\n",
    "    soup = BeautifulSoup(html, features=\"html.parser\")\n",
    "\n",
    "    # kill all script and style elements\n",
    "    for script in soup([\"script\", \"style\"]):\n",
    "        script.extract()    # rip it out\n",
    "\n",
    "    # get text\n",
    "    text = soup.get_text()\n",
    "\n",
    "    # break into lines and remove leading and trailing space on each\n",
    "    lines = (line.strip() for line in text.splitlines())\n",
    "    # break multi-headlines into a line each\n",
    "    chunks = (phrase.strip() for line in lines for phrase in line.split(\"  \"))\n",
    "    # drop blank lines\n",
    "    text = '\\n'.join(chunk for chunk in chunks if chunk)\n",
    "\n",
    "    return(text)"
   ]
  },
  {
   "cell_type": "code",
   "execution_count": 5,
   "id": "38cb6447-948f-434a-94ed-1c81d0fd006b",
   "metadata": {},
   "outputs": [],
   "source": [
    "def miniParse(file):\n",
    "    f = open (file, \"r\")\n",
    "    data = json.loads(f.read())\n",
    "    f.close()\n",
    "\n",
    "    return pd.DataFrame([i['_source'] for i in data['hits']['hits']])"
   ]
  },
  {
   "cell_type": "code",
   "execution_count": 6,
   "id": "dd1cf0e3-1731-4b84-b8f6-f298d0f6c3c9",
   "metadata": {},
   "outputs": [
    {
     "name": "stderr",
     "output_type": "stream",
     "text": [
      "/usr/local/lib/python3.8/dist-packages/bs4/__init__.py:337: MarkupResemblesLocatorWarning: \".\" looks like a directory name, not markup. You may want to open a file found in this directory and pass the filehandle into Beautiful Soup.\n",
      "  warnings.warn(\n"
     ]
    }
   ],
   "source": [
    "df_s = []\n",
    "for file in ['data/noticias/response0-1000.json', 'data/noticias/response1000-2000.json', 'data/noticias/response2000-3000.json', 'data/noticias/response3000-4000.json']:\n",
    "    df_s.append(miniParse(file))\n",
    "df = pd.concat(df_s).drop(['tablas', 'id', 'subSeccion','fuente','autor','idSeccion','idSubSeccion','idPlantilla','epigrafe','publicada','relevancia','ultimoMinuto','fechaModificacion','temas','seccion','comentarios','tituloSEO'], axis=1).reset_index(drop=True)\n",
    "\n",
    "df[\"fechaPublicacion\"] = pd.to_datetime(df[\"fechaPublicacion\"]).dt.date\n",
    "df[\"texto\"] = df[\"texto\"].apply(niceText)"
   ]
  },
  {
   "cell_type": "code",
   "execution_count": 7,
   "id": "4bffe0e5-c26b-4b2e-a93f-5eb7ffd28043",
   "metadata": {},
   "outputs": [],
   "source": [
    "df.to_csv('data/post_parser_emol_news.csv', index=False)"
   ]
  },
  {
   "cell_type": "code",
   "execution_count": null,
   "id": "8a31e1cf-2d12-450c-930d-fff9d470ce2e",
   "metadata": {},
   "outputs": [],
   "source": []
  }
 ],
 "metadata": {
  "kernelspec": {
   "display_name": "Python 3",
   "language": "python",
   "name": "python3"
  },
  "language_info": {
   "codemirror_mode": {
    "name": "ipython",
    "version": 3
   },
   "file_extension": ".py",
   "mimetype": "text/x-python",
   "name": "python",
   "nbconvert_exporter": "python",
   "pygments_lexer": "ipython3",
   "version": "3.8.10"
  }
 },
 "nbformat": 4,
 "nbformat_minor": 5
}
